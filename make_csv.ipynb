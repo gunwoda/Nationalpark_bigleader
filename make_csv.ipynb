{
 "cells": [
  {
   "cell_type": "code",
   "execution_count": 1,
   "metadata": {},
   "outputs": [],
   "source": [
    "import pandas as pd\n",
    "import geopandas as gpd"
   ]
  },
  {
   "cell_type": "code",
   "execution_count": 2,
   "metadata": {},
   "outputs": [
    {
     "name": "stdout",
     "output_type": "stream",
     "text": [
      "Requirement already satisfied: openpyxl in c:\\users\\gunwo\\.conda\\envs\\nationalpark_web\\lib\\site-packages (3.1.2)\n",
      "Requirement already satisfied: et-xmlfile in c:\\users\\gunwo\\.conda\\envs\\nationalpark_web\\lib\\site-packages (from openpyxl) (1.1.0)\n"
     ]
    }
   ],
   "source": [
    "!pip install openpyxl"
   ]
  },
  {
   "cell_type": "code",
   "execution_count": 4,
   "metadata": {},
   "outputs": [],
   "source": [
    "park_data = pd.read_csv('./data/240404_final data_ver4.csv')"
   ]
  },
  {
   "cell_type": "code",
   "execution_count": 5,
   "metadata": {},
   "outputs": [
    {
     "data": {
      "text/plain": [
       "Index(['Unnamed: 0', '사무소', '사고장소', '다목적 위치표시', '위도', '경도', '위도_변환', '경도_변환',\n",
       "       '구분', '연령대', '나이', '성별', '조치 내용', '구체적 상태', '시간', '연도', '위치', '유형',\n",
       "       '유형재분류', '출입금지구간_통일', '사고원인', '월', '연월일', '요일', '국립공원명', '날짜', '평균기온',\n",
       "       '일강수량', '평균풍속', '평균상대습도', '최소기온', '최고기온', '일 최심신적설', '일 최심적설', '최대순간풍속',\n",
       "       '평균이슬점온도', '1시간최대일사량', '최대풍속', '고도', '경사도', '구체적상태그룹', '사고원인그룹',\n",
       "       '위치표지판결합'],\n",
       "      dtype='object')"
      ]
     },
     "execution_count": 5,
     "metadata": {},
     "output_type": "execute_result"
    }
   ],
   "source": [
    "park_data.columns"
   ]
  },
  {
   "cell_type": "code",
   "execution_count": 6,
   "metadata": {},
   "outputs": [],
   "source": [
    "gdf_park_data = gpd.GeoDataFrame(park_data, \n",
    "                            geometry=gpd.points_from_xy(park_data.경도_변환, park_data.위도_변환),\n",
    "                            crs='epsg:4326'\n",
    "                            )\n",
    "# gdf_safety_place = gpd.GeoDataFrame(safety_place, \n",
    "#                             geometry=gpd.points_from_xy(safety_place.경도, safety_place.위도),\n",
    "#                             crs='epsg:4326'\n",
    "#                             )\n",
    "# gdf_sign_place = gpd.GeoDataFrame(sign_place, \n",
    "#                             geometry=gpd.points_from_xy(sign_place.경도, sign_place.위도),\n",
    "#                             crs='epsg:4326'\n",
    "#                             )"
   ]
  },
  {
   "cell_type": "code",
   "execution_count": 7,
   "metadata": {},
   "outputs": [],
   "source": [
    "gdf_park_data.to_file(\"./data/park_data2.gpkg\", layer='park_data2', driver=\"GPKG\")"
   ]
  },
  {
   "cell_type": "code",
   "execution_count": 10,
   "metadata": {},
   "outputs": [
    {
     "data": {
      "text/plain": [
       "array(['기타', '심장사고', '탈진경련', '익수', '추락', '일시적고립', '실족ㆍ골절', '해충피해',\n",
       "       '낙석ㆍ낙빙'], dtype=object)"
      ]
     },
     "execution_count": 10,
     "metadata": {},
     "output_type": "execute_result"
    }
   ],
   "source": [
    "gdf_park_data['유형'].unique()"
   ]
  },
  {
   "cell_type": "code",
   "execution_count": null,
   "metadata": {},
   "outputs": [],
   "source": []
  },
  {
   "cell_type": "code",
   "execution_count": 6,
   "metadata": {},
   "outputs": [],
   "source": [
    "# GeoPackage 파일로부터 GeoDataFrame 불러오기\n",
    "npark_boundary = gpd.read_file('./data/Protected_areas_OECM_Republic_of_Korea_ver_2023.shp', encoding='cp949')\n",
    "gdf_park_data_loaded = gpd.read_file(\"./data/park_data.gpkg\", layer='park_data')\n",
    "gdf_safety_place_loaded = gpd.read_file(\"./data/safety_place.gpkg\", layer='safety_place')\n",
    "gdf_sign_place_loaded = gpd.read_file(\"./data/sign_place.gpkg\", layer='sign_place')\n",
    "df_탐방로 = gpd.read_file('./data/국립공원시설_선형시설.shp')"
   ]
  },
  {
   "cell_type": "code",
   "execution_count": 8,
   "metadata": {},
   "outputs": [],
   "source": [
    "npark_boundary = npark_boundary[npark_boundary['DESIG']=='국립공원']"
   ]
  },
  {
   "cell_type": "code",
   "execution_count": 10,
   "metadata": {},
   "outputs": [],
   "source": [
    "npark_boundary.to_file(\"./data/npark_boundary.gpkg\", layer='npark_boundary', driver=\"GPKG\")"
   ]
  },
  {
   "cell_type": "code",
   "execution_count": 11,
   "metadata": {},
   "outputs": [
    {
     "data": {
      "text/plain": [
       "RangeIndex(start=0, stop=6113, step=1)"
      ]
     },
     "execution_count": 11,
     "metadata": {},
     "output_type": "execute_result"
    }
   ],
   "source": [
    "gdf_park_data"
   ]
  },
  {
   "cell_type": "code",
   "execution_count": null,
   "metadata": {},
   "outputs": [],
   "source": []
  }
 ],
 "metadata": {
  "kernelspec": {
   "display_name": "llm",
   "language": "python",
   "name": "python3"
  },
  "language_info": {
   "codemirror_mode": {
    "name": "ipython",
    "version": 3
   },
   "file_extension": ".py",
   "mimetype": "text/x-python",
   "name": "python",
   "nbconvert_exporter": "python",
   "pygments_lexer": "ipython3",
   "version": "3.9.19"
  }
 },
 "nbformat": 4,
 "nbformat_minor": 2
}
