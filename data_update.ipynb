{
 "cells": [
  {
   "cell_type": "code",
   "execution_count": 1,
   "metadata": {},
   "outputs": [],
   "source": [
    "import pandas as pd\n",
    "import geopandas as gpd"
   ]
  },
  {
   "cell_type": "code",
   "execution_count": 2,
   "metadata": {},
   "outputs": [],
   "source": [
    "gdf_park_data = gpd.read_file(\"./data/park_data2.gpkg\", layer='park_data2')"
   ]
  },
  {
   "cell_type": "code",
   "execution_count": 3,
   "metadata": {},
   "outputs": [
    {
     "data": {
      "text/plain": [
       "Index(['Unnamed: 0', '사무소', '사고장소', '다목적 위치표시', '위도', '경도', '위도_변환', '경도_변환',\n",
       "       '구분', '연령대', '나이', '성별', '조치 내용', '구체적 상태', '시간', '연도', '위치', '유형',\n",
       "       '유형재분류', '출입금지구간_통일', '사고원인', '월', '연월일', '요일', '국립공원명', '날짜', '평균기온',\n",
       "       '일강수량', '평균풍속', '평균상대습도', '최소기온', '최고기온', '일 최심신적설', '일 최심적설', '최대순간풍속',\n",
       "       '평균이슬점온도', '1시간최대일사량', '최대풍속', '고도', '경사도', '구체적상태그룹', '사고원인그룹',\n",
       "       '위치표지판결합', 'geometry'],\n",
       "      dtype='object')"
      ]
     },
     "execution_count": 3,
     "metadata": {},
     "output_type": "execute_result"
    }
   ],
   "source": [
    "gdf_park_data.columns"
   ]
  },
  {
   "cell_type": "code",
   "execution_count": 11,
   "metadata": {},
   "outputs": [
    {
     "data": {
      "text/plain": [
       "array(['기타', '심장사고', '탈진경련', '익수', '추락', '일시적고립', '실족ㆍ골절', '해충피해',\n",
       "       '낙석ㆍ낙빙'], dtype=object)"
      ]
     },
     "execution_count": 11,
     "metadata": {},
     "output_type": "execute_result"
    }
   ],
   "source": [
    "gdf_park_data['유형'].unique()"
   ]
  },
  {
   "cell_type": "code",
   "execution_count": 5,
   "metadata": {},
   "outputs": [],
   "source": [
    "# 방법 1: replace() 함수 사용\n",
    "gdf_park_data['유형'] = gdf_park_data['유형'].replace('익수', '익수사고')\n",
    "gdf_park_data['유형'] = gdf_park_data['유형'].replace('익사', '익수사고')"
   ]
  },
  {
   "cell_type": "code",
   "execution_count": 6,
   "metadata": {},
   "outputs": [
    {
     "data": {
      "text/plain": [
       "유형\n",
       "실족           2076\n",
       "부주의           885\n",
       "일시적고립         846\n",
       "탈진경련          828\n",
       "기타            794\n",
       "심장문제          332\n",
       "추락            268\n",
       "해충 및 동물피해      55\n",
       "익수사고           19\n",
       "낙하물            10\n",
       "Name: count, dtype: int64"
      ]
     },
     "execution_count": 6,
     "metadata": {},
     "output_type": "execute_result"
    }
   ],
   "source": [
    "gdf_park_data['유형'].value_counts()"
   ]
  },
  {
   "cell_type": "code",
   "execution_count": 7,
   "metadata": {},
   "outputs": [],
   "source": [
    "gdf_park_data['유형'] = gdf_park_data['유형'].replace('부주의', '기타')"
   ]
  },
  {
   "cell_type": "code",
   "execution_count": 8,
   "metadata": {},
   "outputs": [],
   "source": [
    "gdf_park_data['유형'] = gdf_park_data['유형'].replace('기타', '기타(낙석 등)')"
   ]
  },
  {
   "cell_type": "code",
   "execution_count": 9,
   "metadata": {},
   "outputs": [],
   "source": [
    "gdf_park_data.to_file(\"./data/park_data2.gpkg\", layer='park_data2', driver=\"GPKG\")"
   ]
  },
  {
   "cell_type": "code",
   "execution_count": null,
   "metadata": {},
   "outputs": [],
   "source": []
  }
 ],
 "metadata": {
  "kernelspec": {
   "display_name": "nationalpark_web",
   "language": "python",
   "name": "python3"
  },
  "language_info": {
   "codemirror_mode": {
    "name": "ipython",
    "version": 3
   },
   "file_extension": ".py",
   "mimetype": "text/x-python",
   "name": "python",
   "nbconvert_exporter": "python",
   "pygments_lexer": "ipython3",
   "version": "3.9.19"
  }
 },
 "nbformat": 4,
 "nbformat_minor": 2
}
